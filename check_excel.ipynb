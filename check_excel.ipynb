{
 "cells": [
  {
   "cell_type": "code",
   "execution_count": 2,
   "id": "c23b37c5-f320-4f86-b9f6-bfae549883f9",
   "metadata": {},
   "outputs": [
    {
     "name": "stdout",
     "output_type": "stream",
     "text": [
      "Tổng số sheet: 1\n",
      "Danh sách sheet:\n",
      "Sheet: 2020_AC01_001, Số dòng: 1240\n",
      "\n",
      "✅ Tất cả sheet đều có dữ liệu. Task hoàn toàn ổn.\n"
     ]
    }
   ],
   "source": [
    "import pandas as pd\n",
    "\n",
    "# File Excel cần check\n",
    "excel_file = \"temp_exports/export_df283a4f-5522-4392-9ba6-82474840a449.xlsx\"\n",
    "\n",
    "# Load tất cả sheet\n",
    "xls = pd.ExcelFile(excel_file)\n",
    "sheet_names = xls.sheet_names\n",
    "\n",
    "print(f\"Tổng số sheet: {len(sheet_names)}\")\n",
    "print(\"Danh sách sheet:\")\n",
    "\n",
    "all_ok = True\n",
    "\n",
    "for sheet in sheet_names:\n",
    "    df = pd.read_excel(xls, sheet_name=sheet)\n",
    "    num_rows = len(df)\n",
    "    print(f\"Sheet: {sheet}, Số dòng: {num_rows}\")\n",
    "    \n",
    "    if num_rows == 0:\n",
    "        print(f\"⚠️ Sheet {sheet} rỗng!\")\n",
    "        all_ok = False\n",
    "\n",
    "if all_ok:\n",
    "    print(\"\\n✅ Tất cả sheet đều có dữ liệu. Task hoàn toàn ổn.\")\n",
    "else:\n",
    "    print(\"\\n❌ Có sheet rỗng, cần kiểm tra lại JSON đầu vào hoặc dữ liệu Parquet.\")\n"
   ]
  },
  {
   "cell_type": "code",
   "execution_count": null,
   "id": "3e78c91f-6025-4d4a-a18c-04ebd685af70",
   "metadata": {},
   "outputs": [],
   "source": []
  }
 ],
 "metadata": {
  "kernelspec": {
   "display_name": "Python 3 (ipykernel)",
   "language": "python",
   "name": "python3"
  },
  "language_info": {
   "codemirror_mode": {
    "name": "ipython",
    "version": 3
   },
   "file_extension": ".py",
   "mimetype": "text/x-python",
   "name": "python",
   "nbconvert_exporter": "python",
   "pygments_lexer": "ipython3",
   "version": "3.10.18"
  }
 },
 "nbformat": 4,
 "nbformat_minor": 5
}
